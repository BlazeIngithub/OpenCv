{
 "cells": [
  {
   "cell_type": "code",
   "execution_count": 1,
   "id": "a4b42bfc",
   "metadata": {},
   "outputs": [],
   "source": [
    "import cv2"
   ]
  },
  {
   "cell_type": "code",
   "execution_count": 2,
   "id": "436a093f",
   "metadata": {},
   "outputs": [],
   "source": [
    "import numpy as np\n",
    "import matplotlib as plt"
   ]
  },
  {
   "cell_type": "code",
   "execution_count": 5,
   "id": "fa320e3c",
   "metadata": {},
   "outputs": [],
   "source": [
    "img= cv2.imread('pexels-pixabay-60597 (1).jpg', cv2.IMREAD_COLOR)"
   ]
  },
  {
   "cell_type": "code",
   "execution_count": 9,
   "id": "0c63d3bc",
   "metadata": {},
   "outputs": [],
   "source": [
    "cv2.imshow(\"image\", img)"
   ]
  },
  {
   "cell_type": "code",
   "execution_count": 10,
   "id": "4479ea0c",
   "metadata": {},
   "outputs": [
    {
     "name": "stdout",
     "output_type": "stream",
     "text": [
      "[[[37 51 23]\n",
      "  [37 51 23]\n",
      "  [37 51 23]\n",
      "  ...\n",
      "  [37 51 23]\n",
      "  [37 51 23]\n",
      "  [37 51 23]]\n",
      "\n",
      " [[37 51 23]\n",
      "  [37 51 23]\n",
      "  [37 51 23]\n",
      "  ...\n",
      "  [37 51 23]\n",
      "  [37 51 23]\n",
      "  [37 51 23]]\n",
      "\n",
      " [[37 51 23]\n",
      "  [37 51 23]\n",
      "  [37 51 23]\n",
      "  ...\n",
      "  [37 51 23]\n",
      "  [37 51 23]\n",
      "  [37 51 23]]\n",
      "\n",
      " ...\n",
      "\n",
      " [[37 51 23]\n",
      "  [37 51 23]\n",
      "  [37 51 23]\n",
      "  ...\n",
      "  [37 51 23]\n",
      "  [37 51 23]\n",
      "  [37 51 23]]\n",
      "\n",
      " [[37 51 23]\n",
      "  [37 51 23]\n",
      "  [37 51 23]\n",
      "  ...\n",
      "  [37 51 23]\n",
      "  [37 51 23]\n",
      "  [37 51 23]]\n",
      "\n",
      " [[37 51 23]\n",
      "  [37 51 23]\n",
      "  [37 51 23]\n",
      "  ...\n",
      "  [37 51 23]\n",
      "  [37 51 23]\n",
      "  [37 51 23]]]\n"
     ]
    }
   ],
   "source": [
    "print(img)"
   ]
  },
  {
   "cell_type": "code",
   "execution_count": null,
   "id": "4a408fb2",
   "metadata": {},
   "outputs": [],
   "source": []
  }
 ],
 "metadata": {
  "kernelspec": {
   "display_name": "Python 3 (ipykernel)",
   "language": "python",
   "name": "python3"
  },
  "language_info": {
   "codemirror_mode": {
    "name": "ipython",
    "version": 3
   },
   "file_extension": ".py",
   "mimetype": "text/x-python",
   "name": "python",
   "nbconvert_exporter": "python",
   "pygments_lexer": "ipython3",
   "version": "3.9.7"
  }
 },
 "nbformat": 4,
 "nbformat_minor": 5
}
